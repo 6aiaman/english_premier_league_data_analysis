{
 "cells": [
  {
   "cell_type": "markdown",
   "metadata": {},
   "source": [
    "# English Premier League Data Analysis\n",
    "\n",
    "In this mini-project I want to find out how football changed over the last 100 years in England. Particularly, I am interested in performance of top teams and various trends. For this project I will using data from [Football data for England (and Wales)](https://github.com/footballcsv/eng-england)\n"
   ]
  },
  {
   "cell_type": "markdown",
   "metadata": {},
   "source": [
    "The dataset has five columns: Season, Date, Team 1, Team 2, FT (full time score) and HT (half time score)."
   ]
  },
  {
   "cell_type": "code",
   "execution_count": 40,
   "metadata": {
    "collapsed": false
   },
   "outputs": [],
   "source": [
    "%matplotlib inline\n",
    "import numpy as np\n",
    "import pandas as pd\n",
    "import scipy.stats as stats\n",
    "import matplotlib.pyplot as plt\n",
    "import math"
   ]
  },
  {
   "cell_type": "markdown",
   "metadata": {},
   "source": [
    "### Download and save the data\n",
    "First, I will download CSV files for Premier league (Division One) games for the last 114 years from the repo, and save it to a dataframe."
   ]
  },
  {
   "cell_type": "code",
   "execution_count": 87,
   "metadata": {
    "collapsed": false
   },
   "outputs": [],
   "source": [
    "decade_list = ['1900s','1910s','1920s','1930s','1940s','1950s','1960s','1970s','1980s','1990s','2000s','2010s']\n",
    "year_list = range (0, 10 ,1)\n",
    "war_years = ['1915-16','1916-17','1917-18','1918-19','1940-41','1941-42','1942-43','1943-44','1944-45','1945-46']\n",
    "\n",
    "master_df = pd.DataFrame()\n",
    "master_list_ = [] \n",
    "\n",
    "for decade in decade_list:\n",
    "    \n",
    "    decade_df = pd.DataFrame()\n",
    "    list_ = [] \n",
    "    \n",
    "    for year in year_list:\n",
    "            \n",
    "        premierleague_decades = ['2000s','2010s']\n",
    "        not_premierleague_years = [0,1]\n",
    "        \n",
    "        if decade == '1990s' and year not in not_premierleague_years:\n",
    "            division_name = '1-premierleague.csv'\n",
    "        \n",
    "        elif decade in premierleague_decades:\n",
    "            division_name = '1-premierleague.csv'\n",
    "            \n",
    "        else:\n",
    "            division_name = '1-division1.csv'\n",
    "        \n",
    "        if year == 9:\n",
    "            year = decade[0:3]+str(year)+'-'+str(int(decade[2:3])+1)+'0'\n",
    "            if year == '1999-100':\n",
    "                year = '1999-00'\n",
    "        else:\n",
    "            year = decade[0:3]+str(year)+'-'+decade[2:3]+str(year+1)\n",
    "            if year == '2014-15':\n",
    "                break\n",
    "        \n",
    "        if year in war_years:\n",
    "            continue\n",
    "        \n",
    "        url = \"https://raw.githubusercontent.com/footballcsv/eng-england/master/\"+decade+\"/\"+year+\"/\"+division_name\n",
    "        try:\n",
    "            df = pd.read_csv(url)\n",
    "            df['Season'] = year # some years do not have date column\n",
    "            df = df[['Season','Date','Team 1','Team 2','FT','HT']]\n",
    "            list_.append(df)\n",
    "        except:\n",
    "            print 'Error happened for year: '+ year\n",
    "            continue\n",
    "    decade_df = pd.concat(list_)\n",
    "    master_list_.append(decade_df)\n",
    "    \n",
    "master_df = pd.concat(master_list_)"
   ]
  },
  {
   "cell_type": "code",
   "execution_count": 88,
   "metadata": {
    "collapsed": false
   },
   "outputs": [
    {
     "data": {
      "text/html": [
       "<div>\n",
       "<table border=\"1\" class=\"dataframe\">\n",
       "  <thead>\n",
       "    <tr style=\"text-align: right;\">\n",
       "      <th></th>\n",
       "      <th>Season</th>\n",
       "      <th>Date</th>\n",
       "      <th>Team 1</th>\n",
       "      <th>Team 2</th>\n",
       "      <th>FT</th>\n",
       "      <th>HT</th>\n",
       "    </tr>\n",
       "  </thead>\n",
       "  <tbody>\n",
       "    <tr>\n",
       "      <th>0</th>\n",
       "      <td>1900-01</td>\n",
       "      <td>-</td>\n",
       "      <td>Blackburn Rovers</td>\n",
       "      <td>Aston Villa</td>\n",
       "      <td>2-2</td>\n",
       "      <td>-</td>\n",
       "    </tr>\n",
       "    <tr>\n",
       "      <th>1</th>\n",
       "      <td>1900-01</td>\n",
       "      <td>-</td>\n",
       "      <td>Bolton Wanderers</td>\n",
       "      <td>Aston Villa</td>\n",
       "      <td>1-0</td>\n",
       "      <td>-</td>\n",
       "    </tr>\n",
       "    <tr>\n",
       "      <th>2</th>\n",
       "      <td>1900-01</td>\n",
       "      <td>-</td>\n",
       "      <td>Bury</td>\n",
       "      <td>Aston Villa</td>\n",
       "      <td>3-1</td>\n",
       "      <td>-</td>\n",
       "    </tr>\n",
       "    <tr>\n",
       "      <th>3</th>\n",
       "      <td>1900-01</td>\n",
       "      <td>-</td>\n",
       "      <td>Derby County</td>\n",
       "      <td>Aston Villa</td>\n",
       "      <td>3-0</td>\n",
       "      <td>-</td>\n",
       "    </tr>\n",
       "    <tr>\n",
       "      <th>4</th>\n",
       "      <td>1900-01</td>\n",
       "      <td>-</td>\n",
       "      <td>Everton</td>\n",
       "      <td>Aston Villa</td>\n",
       "      <td>2-1</td>\n",
       "      <td>-</td>\n",
       "    </tr>\n",
       "  </tbody>\n",
       "</table>\n",
       "</div>"
      ],
      "text/plain": [
       "    Season Date            Team 1       Team 2   FT HT\n",
       "0  1900-01    -  Blackburn Rovers  Aston Villa  2-2  -\n",
       "1  1900-01    -  Bolton Wanderers  Aston Villa  1-0  -\n",
       "2  1900-01    -              Bury  Aston Villa  3-1  -\n",
       "3  1900-01    -      Derby County  Aston Villa  3-0  -\n",
       "4  1900-01    -           Everton  Aston Villa  2-1  -"
      ]
     },
     "execution_count": 88,
     "metadata": {},
     "output_type": "execute_result"
    }
   ],
   "source": [
    "master_df.head()"
   ]
  },
  {
   "cell_type": "markdown",
   "metadata": {},
   "source": [
    "### Question 1: Are teams have been scoring more goals in recent years? "
   ]
  },
  {
   "cell_type": "markdown",
   "metadata": {},
   "source": [
    "To answer to this question I will split FT column into two columns, convert them to integer values and add them to each other to find the average number of goals per game. "
   ]
  },
  {
   "cell_type": "code",
   "execution_count": 110,
   "metadata": {
    "collapsed": false
   },
   "outputs": [],
   "source": [
    "split_FT = lambda x: pd.Series([i for i in reversed(x.split('-'))])\n",
    "FTs = master_df['FT'].apply(split_FT) # splitting the FT column\n",
    "master_df['FT1'] = FTs[0] # adding to the main dataframe\n",
    "master_df['FT2'] = FTs[1]"
   ]
  },
  {
   "cell_type": "code",
   "execution_count": 116,
   "metadata": {
    "collapsed": false
   },
   "outputs": [],
   "source": [
    "master_df['FT1'] = master_df['FT1'].astype('int') # converting to integer values\n",
    "master_df['FT2'] = master_df['FT2'].astype('int')"
   ]
  },
  {
   "cell_type": "code",
   "execution_count": 131,
   "metadata": {
    "collapsed": false
   },
   "outputs": [
    {
     "data": {
      "text/html": [
       "<div>\n",
       "<table border=\"1\" class=\"dataframe\">\n",
       "  <thead>\n",
       "    <tr style=\"text-align: right;\">\n",
       "      <th></th>\n",
       "      <th>Season</th>\n",
       "      <th>Date</th>\n",
       "      <th>Team 1</th>\n",
       "      <th>Team 2</th>\n",
       "      <th>FT</th>\n",
       "      <th>HT</th>\n",
       "      <th>FT1</th>\n",
       "      <th>FT2</th>\n",
       "      <th>TotalG</th>\n",
       "    </tr>\n",
       "  </thead>\n",
       "  <tbody>\n",
       "    <tr>\n",
       "      <th>0</th>\n",
       "      <td>1900-01</td>\n",
       "      <td>-</td>\n",
       "      <td>Blackburn Rovers</td>\n",
       "      <td>Aston Villa</td>\n",
       "      <td>2-2</td>\n",
       "      <td>-</td>\n",
       "      <td>2</td>\n",
       "      <td>2</td>\n",
       "      <td>4</td>\n",
       "    </tr>\n",
       "    <tr>\n",
       "      <th>1</th>\n",
       "      <td>1900-01</td>\n",
       "      <td>-</td>\n",
       "      <td>Bolton Wanderers</td>\n",
       "      <td>Aston Villa</td>\n",
       "      <td>1-0</td>\n",
       "      <td>-</td>\n",
       "      <td>0</td>\n",
       "      <td>1</td>\n",
       "      <td>1</td>\n",
       "    </tr>\n",
       "    <tr>\n",
       "      <th>2</th>\n",
       "      <td>1900-01</td>\n",
       "      <td>-</td>\n",
       "      <td>Bury</td>\n",
       "      <td>Aston Villa</td>\n",
       "      <td>3-1</td>\n",
       "      <td>-</td>\n",
       "      <td>1</td>\n",
       "      <td>3</td>\n",
       "      <td>4</td>\n",
       "    </tr>\n",
       "    <tr>\n",
       "      <th>3</th>\n",
       "      <td>1900-01</td>\n",
       "      <td>-</td>\n",
       "      <td>Derby County</td>\n",
       "      <td>Aston Villa</td>\n",
       "      <td>3-0</td>\n",
       "      <td>-</td>\n",
       "      <td>0</td>\n",
       "      <td>3</td>\n",
       "      <td>3</td>\n",
       "    </tr>\n",
       "    <tr>\n",
       "      <th>4</th>\n",
       "      <td>1900-01</td>\n",
       "      <td>-</td>\n",
       "      <td>Everton</td>\n",
       "      <td>Aston Villa</td>\n",
       "      <td>2-1</td>\n",
       "      <td>-</td>\n",
       "      <td>1</td>\n",
       "      <td>2</td>\n",
       "      <td>3</td>\n",
       "    </tr>\n",
       "  </tbody>\n",
       "</table>\n",
       "</div>"
      ],
      "text/plain": [
       "    Season Date            Team 1       Team 2   FT HT  FT1  FT2  TotalG\n",
       "0  1900-01    -  Blackburn Rovers  Aston Villa  2-2  -    2    2       4\n",
       "1  1900-01    -  Bolton Wanderers  Aston Villa  1-0  -    0    1       1\n",
       "2  1900-01    -              Bury  Aston Villa  3-1  -    1    3       4\n",
       "3  1900-01    -      Derby County  Aston Villa  3-0  -    0    3       3\n",
       "4  1900-01    -           Everton  Aston Villa  2-1  -    1    2       3"
      ]
     },
     "execution_count": 131,
     "metadata": {},
     "output_type": "execute_result"
    }
   ],
   "source": [
    "master_df['TotalG'] = master_df['FT1'] + master_df['FT2'] \n",
    "master_df.head() "
   ]
  },
  {
   "cell_type": "code",
   "execution_count": 141,
   "metadata": {
    "collapsed": false
   },
   "outputs": [],
   "source": [
    "group_season = master_df.groupby('Season')\n",
    "mean_TotalG = group_season['TotalG'].mean()"
   ]
  },
  {
   "cell_type": "code",
   "execution_count": 145,
   "metadata": {
    "collapsed": false
   },
   "outputs": [
    {
     "data": {
      "text/plain": [
       "<matplotlib.text.Text at 0x1290e0cd0>"
      ]
     },
     "execution_count": 145,
     "metadata": {},
     "output_type": "execute_result"
    },
    {
     "data": {
      "image/png": "[encoded data removed]",
      "text/plain": [
       "<matplotlib.figure.Figure at 0x120b9ed10>"
      ]
     },
     "metadata": {},
     "output_type": "display_data"
    }
   ],
   "source": [
    "linechart = mean_TotalG.plot()\n",
    "linechart.set_title(\"EPL Average Goals Per Game Since 1900\")\n",
    "linechart.set_ylabel('Average number of goals per game')"
   ]
  },
  {
   "cell_type": "markdown",
   "metadata": {},
   "source": [
    "### Answer to the first question: No.\n",
    "As you can see from the line chart the average number of goals per game in 30s and 60s was almost four. Now it's only around 2.8 goals per game.\n",
    "\n",
    "The two high averages may be related to the World Wars. It needs further research."
   ]
  },
  {
   "cell_type": "markdown",
   "metadata": {},
   "source": [
    "### To be continued... "
   ]
  },
  {
   "cell_type": "code",
   "execution_count": null,
   "metadata": {
    "collapsed": true
   },
   "outputs": [],
   "source": []
  }
 ],
 "metadata": {
  "kernelspec": {
   "display_name": "Python 2",
   "language": "python",
   "name": "python2"
  },
  "language_info": {
   "codemirror_mode": {
    "name": "ipython",
    "version": 2
   },
   "file_extension": ".py",
   "mimetype": "text/x-python",
   "name": "python",
   "nbconvert_exporter": "python",
   "pygments_lexer": "ipython2",
   "version": "2.7.11"
  }
 },
 "nbformat": 4,
 "nbformat_minor": 0
}
